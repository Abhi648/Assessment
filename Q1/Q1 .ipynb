{
  "nbformat": 4,
  "nbformat_minor": 0,
  "metadata": {
    "colab": {
      "provenance": []
    },
    "kernelspec": {
      "name": "python3",
      "display_name": "Python 3"
    },
    "language_info": {
      "name": "python"
    }
  },
  "cells": [
    {
      "cell_type": "code",
      "execution_count": null,
      "metadata": {
        "colab": {
          "base_uri": "https://localhost:8080/"
        },
        "id": "B2LGEZ8AqfZL",
        "outputId": "26a68278-13d0-4204-87c8-eb21a9c99571"
      },
      "outputs": [
        {
          "output_type": "stream",
          "name": "stdout",
          "text": [
            "Enter an address (or type 'exit' to quit): 2nd Phase, 374/B, 80 Feet Rd, Mysore Bank Colony, Banashankari 3rd Stage, Srinivasa Nagar, Bengaluru, Karnataka 560050\n",
            "Unable to determine the correct PIN code for the provided address.\n",
            "Enter an address (or type 'exit' to quit): 2nd Phase, 374/B, 80 Feet Rd, Bank Colony, Banashankari 3rd Stage, Srinivasa Nagar, Bengaluru, Karnataka 560050”, \"374/B, 80 Feet Rd, State Bank Colony, Banashankari 3rd Stage, Srinivasa Nagar, Bangalore. 560050\n",
            "Unable to determine the correct PIN code for the provided address.\n"
          ]
        }
      ],
      "source": [
        "import requests\n",
        "\n",
        "def get_correct_pincode(address):\n",
        "    response = requests.get(f\"http://postalpincode.in/api/pincode/{address}\")\n",
        "    if response.status_code == 200:\n",
        "        data = response.json()\n",
        "        post_office = data[0].get('PostOffice', [])\n",
        "        if post_office:\n",
        "            correct_pincode = post_office[0].get('Pincode')\n",
        "            return correct_pincode\n",
        "    return None\n",
        "\n",
        "# Start an infinite loop to continuously accept addresses\n",
        "while True:\n",
        "    # Prompt the user to enter an address (or type 'exit' to quit)\n",
        "    address = input(\"Enter an address (or type 'exit' to quit): \")\n",
        "\n",
        "    # Check if the user wants to exit the loop\n",
        "    if address.lower() == 'exit':\n",
        "        break  # Exit the loop and end the program\n",
        "\n",
        "    # Call the function to get the correct PIN code for the address\n",
        "    correct_pincode = get_correct_pincode(address)\n",
        "\n",
        "    # Check if a correct PIN code was found\n",
        "    if correct_pincode:\n",
        "        # Print the correct PIN code for the provided address\n",
        "        print(f\"The correct PIN code for the provided address is: {correct_pincode}\")\n",
        "    else:\n",
        "        # Inform the user that the correct PIN code could not be determined\n",
        "        print(\"Unable to determine the correct PIN code for the provided address.\")\n"
      ]
    },
    {
      "cell_type": "markdown",
      "source": [
        "Test Cases:\n",
        "\n",
        "1. Input an address with a correct PIN code and verify that the program returns True.\n",
        "2. Input an address with an incorrect PIN code and verify that the program returns False.\n",
        "3. Input an address with a valid format but not found in the API database and verify that the program returns False.\n",
        "4. Input an address with an invalid format and verify that the program handles it gracefully, possibly by returning False or raising an exception.\n",
        "5. Input an address with special characters and verify that the program correctly extracts and compares the PIN code.\n",
        "6. Input an address without a PIN code and verify that the program handles it gracefully, possibly by returning False or raising an exception"
      ],
      "metadata": {
        "id": "qkXBmTP3wuvS"
      }
    }
  ]
}